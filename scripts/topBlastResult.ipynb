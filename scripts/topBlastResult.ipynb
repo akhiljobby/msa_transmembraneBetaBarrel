{
 "cells": [
  {
   "cell_type": "code",
   "execution_count": 3,
   "metadata": {},
   "outputs": [],
   "source": [
    "############################################\n",
    "#Order of notebook files usage\n",
    "#1. splitBlastOut\n",
    "#2. topBlastResult\n",
    "#3. removeIdsLessThresh\n",
    "#4. removeCSVCol\n",
    "#5. extractFastaSeqfromBlastDB\n",
    "############################################\n",
    "\n",
    "#Do this after running \"splitBlastOut\" to get the top results \n",
    "#from blast output\n",
    "\n",
    "import glob\n",
    "import pandas as pd\n",
    "\n",
    "files=glob.glob(\"/home/user/thesis/scripts/BlastOut_datasetTMB/BlastOut_datasetTMB_unirefOMBB100/top25BlastSplit/BlastOut_datasetTMB_unirefOMBB100_*.csv\")\n",
    "\n",
    "for f in files:\n",
    "    #nrows=26 means it skips 1 row and reads 25 rows below the first row. \n",
    "    #In this case the first row is header which we don't need\n",
    "    #idea here is to keep only top results/hits of blast. However, first entry is the query seqID \n",
    "    data=pd.read_csv(f, nrows=26)\n",
    "    data.to_csv(r'{}'.format(f), index = None)"
   ]
  },
  {
   "cell_type": "code",
   "execution_count": null,
   "metadata": {},
   "outputs": [],
   "source": []
  },
  {
   "cell_type": "code",
   "execution_count": null,
   "metadata": {},
   "outputs": [],
   "source": []
  },
  {
   "cell_type": "code",
   "execution_count": null,
   "metadata": {},
   "outputs": [],
   "source": []
  }
 ],
 "metadata": {
  "kernelspec": {
   "display_name": "Python 3",
   "language": "python",
   "name": "python3"
  },
  "language_info": {
   "codemirror_mode": {
    "name": "ipython",
    "version": 3
   },
   "file_extension": ".py",
   "mimetype": "text/x-python",
   "name": "python",
   "nbconvert_exporter": "python",
   "pygments_lexer": "ipython3",
   "version": "3.6.8"
  }
 },
 "nbformat": 4,
 "nbformat_minor": 2
}
