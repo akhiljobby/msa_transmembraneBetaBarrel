{
 "cells": [
  {
   "cell_type": "code",
   "execution_count": 4,
   "metadata": {
    "scrolled": true
   },
   "outputs": [],
   "source": [
    "############################################\n",
    "#Order of notebook files usage\n",
    "#1. splitBlastOut\n",
    "#2. topBlastResult\n",
    "#3. removeIdsLessThresh\n",
    "#4. removeCSVCol\n",
    "#5. extractFastaSeqfromBlastDB\n",
    "############################################\n",
    "\n",
    "#to split Blast output (-outfmt 6) into Groups\n",
    "\n",
    "import pandas as pd\n",
    "\n",
    "\n",
    "\n",
    "#read .csv as dataframe\n",
    "data=pd.read_csv(\"BlastOut_datasetTMB_unirefOMBB100.csv\")\n",
    "\n",
    "#truncates sp| | from second column ('B').\n",
    "new_Acol=data['A'].str[3:9]\n",
    "#new_Bcol=data['B'].str[3:-1]\n",
    "\n",
    "#replaces second column with new_col\n",
    "data['A']=new_Acol.to_frame(name=None) \n",
    "#data['B']=new_Bcol.to_frame(name=None) \n",
    "\n",
    "#groups dataframe by first column ('A')\n",
    "grouped=data.groupby('A')             \n",
    "\n",
    "#loops through grouped items and writes each group to .csv file with title of group ([group_name].csv)\n",
    "for group_name, group in grouped:\n",
    "    \n",
    "    #create new dataframe to store group_name\n",
    "    col_names =  ['A', 'B', 'C', 'D', 'E', 'F']\n",
    "    my_df  = pd.DataFrame(columns = col_names)\n",
    "    my_df.loc[len(my_df)] = [0, group_name, 0,0,0,0]\n",
    "\n",
    "    #create another dataframe \"my_df2\" to store dataframe \"group\". \n",
    "    #Did not work by just appending the dataframe \"group\" to dataframe \"my_df\"\n",
    "    my_df2  = pd.DataFrame(columns = col_names)\n",
    "    my_df2=group\n",
    "    \n",
    "    #Note: it is necessary to store while appending. \n",
    "    #Otherwise memory gets reallocated during every append and thus it wont append\n",
    "    my_df = my_df.append(my_df2)\n",
    "    \n",
    "    #dataframe to csv\n",
    "    my_df.to_csv('BlastOut_datasetTMB_unirefOMBB100_{}.csv'.format(group_name), index=None)     \n",
    "    "
   ]
  },
  {
   "cell_type": "code",
   "execution_count": null,
   "metadata": {},
   "outputs": [],
   "source": []
  },
  {
   "cell_type": "code",
   "execution_count": null,
   "metadata": {},
   "outputs": [],
   "source": []
  }
 ],
 "metadata": {
  "kernelspec": {
   "display_name": "Python 3",
   "language": "python",
   "name": "python3"
  },
  "language_info": {
   "codemirror_mode": {
    "name": "ipython",
    "version": 3
   },
   "file_extension": ".py",
   "mimetype": "text/x-python",
   "name": "python",
   "nbconvert_exporter": "python",
   "pygments_lexer": "ipython3",
   "version": "3.6.8"
  }
 },
 "nbformat": 4,
 "nbformat_minor": 2
}
