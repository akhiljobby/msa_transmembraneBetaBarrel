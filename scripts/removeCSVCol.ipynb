{
 "cells": [
  {
   "cell_type": "code",
   "execution_count": 4,
   "metadata": {},
   "outputs": [],
   "source": [
    "############################################\n",
    "#Order of notebook files usage\n",
    "#1. splitBlastOut\n",
    "#2. topBlastResult\n",
    "#3. removeIdsLessThresh\n",
    "#4. removeCSVCol\n",
    "#5. extractFastaSeqfromBlastDB\n",
    "############################################\n",
    "\n",
    "import glob\n",
    "import pandas as pd\n",
    "files=glob.glob(\"BlastOut_datasetTMB_swissprot_*.csv\")\n",
    "for f in files:\n",
    "    df=pd.read_csv(f)\n",
    "    #Removes all columns except column with subject ids. \n",
    "    #Here subject id is in column B, hence, kept it and removed others.\n",
    "    #Contents of columns change according to blast command used. So check which column has what    \n",
    "    keep_col=['B']\n",
    "    new_df = df[keep_col]\n",
    "    new_df.to_csv(f, header=None, index=False)\n"
   ]
  },
  {
   "cell_type": "code",
   "execution_count": null,
   "metadata": {},
   "outputs": [],
   "source": []
  }
 ],
 "metadata": {
  "kernelspec": {
   "display_name": "Python 3",
   "language": "python",
   "name": "python3"
  },
  "language_info": {
   "codemirror_mode": {
    "name": "ipython",
    "version": 3
   },
   "file_extension": ".py",
   "mimetype": "text/x-python",
   "name": "python",
   "nbconvert_exporter": "python",
   "pygments_lexer": "ipython3",
   "version": "3.6.8"
  }
 },
 "nbformat": 4,
 "nbformat_minor": 2
}
