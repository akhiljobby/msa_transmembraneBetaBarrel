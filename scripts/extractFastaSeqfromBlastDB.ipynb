{
 "cells": [
  {
   "cell_type": "code",
   "execution_count": 1,
   "metadata": {},
   "outputs": [],
   "source": [
    "############################################\n",
    "#Order of notebook files usage\n",
    "#1. splitBlastOut\n",
    "#2. topBlastResult\n",
    "#3. removeIdsLessThresh\n",
    "#4. removeCSVCol\n",
    "#5. extractFastaSeqfromBlastDB\n",
    "############################################\n",
    "\n",
    "import subprocess\n",
    "import glob\n",
    "\n",
    "#Req: needs a list of ids in the db\n",
    "#Run the following in sequence\n",
    "#Run1: splitBlastOut to split the output of Blast into out for each query. It returns all columns for each query from the blast out. \n",
    "#Run2: removeCSVCol is used to remove all columns expcept column of subject ids\n",
    "\n",
    "#NOTE: make sure \"-parse_seqid\" flag was used while running the makeblastdb \n",
    "\n",
    "files=glob.glob(\"BlastOut_datasetTMB_unirefOMBB100_*.csv\")\n",
    "for f in files:\n",
    "    command1=\"blastdbcmd -db /home/user/thesis/scripts/BlastOut_datasetTMB/BlastOut_datasetTMB_unirefOMBB100/combined_datasetTMB_unirefOMBB100 -dbtype prot -entry_batch \"\n",
    "    command2=f+\" \"\n",
    "    command3=\"-outfmt %f -out \"\n",
    "    command4=f+\".fasta\"\n",
    "    command=command1+command2+command3+command4\n",
    "    process=subprocess.Popen(command, shell=True, stdout=subprocess.PIPE, stderr=subprocess.PIPE,)\n",
    "    output, error = process.communicate()\n",
    "\n",
    "\n",
    "\n"
   ]
  },
  {
   "cell_type": "code",
   "execution_count": null,
   "metadata": {},
   "outputs": [],
   "source": []
  },
  {
   "cell_type": "code",
   "execution_count": null,
   "metadata": {},
   "outputs": [],
   "source": []
  }
 ],
 "metadata": {
  "kernelspec": {
   "display_name": "Python 3",
   "language": "python",
   "name": "python3"
  },
  "language_info": {
   "codemirror_mode": {
    "name": "ipython",
    "version": 3
   },
   "file_extension": ".py",
   "mimetype": "text/x-python",
   "name": "python",
   "nbconvert_exporter": "python",
   "pygments_lexer": "ipython3",
   "version": "3.6.8"
  }
 },
 "nbformat": 4,
 "nbformat_minor": 2
}
