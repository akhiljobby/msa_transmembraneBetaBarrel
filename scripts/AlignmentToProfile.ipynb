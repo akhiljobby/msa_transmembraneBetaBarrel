{
 "cells": [
  {
   "cell_type": "code",
   "execution_count": 9,
   "metadata": {
    "scrolled": true
   },
   "outputs": [],
   "source": [
    "from modeller import *\n",
    "env = environ()\n",
    "\n",
    "# Read in the alignment file\n",
    "aln = alignment(env)\n",
    "aln.append(file='clustalOAligned.fasta', alignment_format='FASTA', align_codes='ALL')\n",
    "\n",
    "# Convert the alignment to profile format\n",
    "prf = aln.to_profile()\n",
    "\n",
    "# Write out the profile\n",
    "\n",
    "# in text file\n",
    "prf.write(file='clustalProfile.prf', profile_format='TEXT')\n",
    "\n",
    "# in binary format\n",
    "#prf.write(file='clustalProfile.bin', profile_format='BINARY')"
   ]
  },
  {
   "cell_type": "code",
   "execution_count": null,
   "metadata": {},
   "outputs": [],
   "source": []
  }
 ],
 "metadata": {
  "kernelspec": {
   "display_name": "Python 3",
   "language": "python",
   "name": "python3"
  },
  "language_info": {
   "codemirror_mode": {
    "name": "ipython",
    "version": 3
   },
   "file_extension": ".py",
   "mimetype": "text/x-python",
   "name": "python",
   "nbconvert_exporter": "python",
   "pygments_lexer": "ipython3",
   "version": "3.7.2"
  }
 },
 "nbformat": 4,
 "nbformat_minor": 2
}
