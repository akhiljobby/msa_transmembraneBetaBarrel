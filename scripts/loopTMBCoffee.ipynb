{
 "cells": [
  {
   "cell_type": "code",
   "execution_count": 9,
   "metadata": {},
   "outputs": [
    {
     "name": "stdout",
     "output_type": "stream",
     "text": [
      "['/home/user/thesis/scripts/interMSAp1andp2OMPdb70/fastaInput/p1andp2OMPDB70_P0A940.csv.fasta', '/home/user/thesis/scripts/interMSAp1andp2OMPdb70/fastaInput/p1andp2OMPDB70_P48632.csv.fasta', '/home/user/thesis/scripts/interMSAp1andp2OMPdb70/fastaInput/p1andp2OMPDB70_P05695.csv.fasta', '/home/user/thesis/scripts/interMSAp1andp2OMPdb70/fastaInput/p1andp2OMPDB70_P69856.csv.fasta', '/home/user/thesis/scripts/interMSAp1andp2OMPdb70/fastaInput/p1andp2OMPDB70_P06996.csv.fasta', '/home/user/thesis/scripts/interMSAp1andp2OMPdb70/fastaInput/p1andp2OMPDB70_P26466.csv.fasta', '/home/user/thesis/scripts/interMSAp1andp2OMPdb70/fastaInput/p1andp2OMPDB70_P13036.csv.fasta', '/home/user/thesis/scripts/interMSAp1andp2OMPdb70/fastaInput/p1andp2OMPDB70_P76045.csv.fasta', '/home/user/thesis/scripts/interMSAp1andp2OMPdb70/fastaInput/p1andp2OMPDB70_P22340.csv.fasta', '/home/user/thesis/scripts/interMSAp1andp2OMPdb70/fastaInput/p1andp2OMPDB70_P02943.csv.fasta', '/home/user/thesis/scripts/interMSAp1andp2OMPdb70/fastaInput/p1andp2OMPDB70_P24305.csv.fasta', '/home/user/thesis/scripts/interMSAp1andp2OMPdb70/fastaInput/p1andp2OMPDB70_P0A921.csv.fasta', '/home/user/thesis/scripts/interMSAp1andp2OMPdb70/fastaInput/p1andp2OMPDB70_P02931.csv.fasta', '/home/user/thesis/scripts/interMSAp1andp2OMPdb70/fastaInput/p1andp2OMPDB70_P02932.csv.fasta', '/home/user/thesis/scripts/interMSAp1andp2OMPdb70/fastaInput/p1andp2OMPDB70_P42512.csv.fasta', '/home/user/thesis/scripts/interMSAp1andp2OMPdb70/fastaInput/p1andp2OMPDB70_P0A917.csv.fasta', '/home/user/thesis/scripts/interMSAp1andp2OMPdb70/fastaInput/p1andp2OMPDB70_O33407.csv.fasta', '/home/user/thesis/scripts/interMSAp1andp2OMPdb70/fastaInput/p1andp2OMPDB70_P17811.csv.fasta', '/home/user/thesis/scripts/interMSAp1andp2OMPdb70/fastaInput/p1andp2OMPDB70_P0A910.csv.fasta', '/home/user/thesis/scripts/interMSAp1andp2OMPdb70/fastaInput/p1andp2OMPDB70_Q9HVD1.csv.fasta', '/home/user/thesis/scripts/interMSAp1andp2OMPdb70/fastaInput/p1andp2OMPDB70_P39767.csv.fasta', '/home/user/thesis/scripts/interMSAp1andp2OMPdb70/fastaInput/p1andp2OMPDB70_P06129.csv.fasta', '/home/user/thesis/scripts/interMSAp1andp2OMPdb70/fastaInput/p1andp2OMPDB70_Q83SQ0.csv.fasta', '/home/user/thesis/scripts/interMSAp1andp2OMPdb70/fastaInput/p1andp2OMPDB70_O88093.csv.fasta', '/home/user/thesis/scripts/interMSAp1andp2OMPdb70/fastaInput/p1andp2OMPDB70_P02930.csv.fasta', '/home/user/thesis/scripts/interMSAp1andp2OMPdb70/fastaInput/p1andp2OMPDB70_P07110.csv.fasta', '/home/user/thesis/scripts/interMSAp1andp2OMPdb70/fastaInput/p1andp2OMPDB70_P09169.csv.fasta', '/home/user/thesis/scripts/interMSAp1andp2OMPdb70/fastaInput/p1andp2OMPDB70_Q8CVW1.csv.fasta', '/home/user/thesis/scripts/interMSAp1andp2OMPdb70/fastaInput/p1andp2OMPDB70_P0A927.csv.fasta', '/home/user/thesis/scripts/interMSAp1andp2OMPdb70/fastaInput/p1andp2OMPDB70_P24017.csv.fasta', '/home/user/thesis/scripts/interMSAp1andp2OMPdb70/fastaInput/p1andp2OMPDB70_Q48473.csv.fasta', '/home/user/thesis/scripts/interMSAp1andp2OMPdb70/fastaInput/p1andp2OMPDB70_Q7BSW5.csv.fasta', '/home/user/thesis/scripts/interMSAp1andp2OMPdb70/fastaInput/p1andp2OMPDB70_P31243.csv.fasta', '/home/user/thesis/scripts/interMSAp1andp2OMPdb70/fastaInput/p1andp2OMPDB70_Q7BCK4.csv.fasta', '/home/user/thesis/scripts/interMSAp1andp2OMPdb70/fastaInput/p1andp2OMPDB70_P0A915.csv.fasta', '/home/user/thesis/scripts/interMSAp1andp2OMPdb70/fastaInput/p1andp2OMPDB70_P17315.csv.fasta', '/home/user/thesis/scripts/interMSAp1andp2OMPdb70/fastaInput/p1andp2OMPDB70_P10384.csv.fasta', '/home/user/thesis/scripts/interMSAp1andp2OMPdb70/fastaInput/p1andp2OMPDB70_P37001.csv.fasta', '/home/user/thesis/scripts/interMSAp1andp2OMPdb70/fastaInput/p1andp2OMPDB70_P30130.csv.fasta', '/home/user/thesis/scripts/interMSAp1andp2OMPdb70/fastaInput/p1andp2OMPDB70_P05825.csv.fasta', '/home/user/thesis/scripts/interMSAp1andp2OMPdb70/fastaInput/p1andp2OMPDB70_Q51487.csv.fasta', '/home/user/thesis/scripts/interMSAp1andp2OMPdb70/fastaInput/p1andp2OMPDB70_P32722.csv.fasta', '/home/user/thesis/scripts/interMSAp1andp2OMPdb70/fastaInput/p1andp2OMPDB70_P06971.csv.fasta']\n"
     ]
    }
   ],
   "source": [
    "import subprocess\n",
    "import glob\n",
    "\n",
    "files=glob.glob(\"/home/user/thesis/scripts/interMSAp1andp2OMPdb70/fastaInput/p1andp2OMPDB70_*.fasta\")\n",
    "print(files)\n",
    "for f in files:\n",
    "\n",
    "    command1=\"singularity exec /home/user/thesis/TCoffee/imagesforSingularity/singbase.simg t_coffee \"\n",
    "    command2= f+\" \"\n",
    "    command3=\"-mode psicoffee -blast_server=LOCAL -protein_db=/home/user/thesis/TCoffee/database/ompdb/OMPdb70 -multi_core 4\"\n",
    "    command=command1+command2+command3\n",
    "    process=subprocess.Popen(command, shell=True, stdout=subprocess.PIPE, stderr=subprocess.PIPE)\n",
    "    output, error = process.communicate()\n"
   ]
  },
  {
   "cell_type": "code",
   "execution_count": null,
   "metadata": {},
   "outputs": [],
   "source": []
  },
  {
   "cell_type": "code",
   "execution_count": null,
   "metadata": {},
   "outputs": [],
   "source": []
  }
 ],
 "metadata": {
  "kernelspec": {
   "display_name": "Python 3",
   "language": "python",
   "name": "python3"
  },
  "language_info": {
   "codemirror_mode": {
    "name": "ipython",
    "version": 3
   },
   "file_extension": ".py",
   "mimetype": "text/x-python",
   "name": "python",
   "nbconvert_exporter": "python",
   "pygments_lexer": "ipython3",
   "version": "3.6.8"
  }
 },
 "nbformat": 4,
 "nbformat_minor": 2
}
