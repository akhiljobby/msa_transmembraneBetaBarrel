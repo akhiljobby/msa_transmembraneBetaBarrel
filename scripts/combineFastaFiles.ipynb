{
 "cells": [
  {
   "cell_type": "code",
   "execution_count": 5,
   "metadata": {},
   "outputs": [],
   "source": [
    "#Used to combine fasta files. \n",
    "#It combines OMPdb70, swissprot, unirefOMBB100. \n",
    "#The same fasta files are used to make their respective blast databases\n",
    "#purpose of this combined fasta file: to look up sequences from one file rather than three different ones\n",
    "\n",
    "import shutil\n",
    "with open('combinedDBfasta','wb') as wfd:\n",
    "    for f in ['OMPdb70.fasta', 'sequences.fasta']:\n",
    "        with open(f,'rb') as fd:\n",
    "            shutil.copyfileobj(fd, wfd)"
   ]
  },
  {
   "cell_type": "code",
   "execution_count": null,
   "metadata": {},
   "outputs": [],
   "source": []
  },
  {
   "cell_type": "code",
   "execution_count": null,
   "metadata": {},
   "outputs": [],
   "source": []
  }
 ],
 "metadata": {
  "kernelspec": {
   "display_name": "Python 3",
   "language": "python",
   "name": "python3"
  },
  "language_info": {
   "codemirror_mode": {
    "name": "ipython",
    "version": 3
   },
   "file_extension": ".py",
   "mimetype": "text/x-python",
   "name": "python",
   "nbconvert_exporter": "python",
   "pygments_lexer": "ipython3",
   "version": "3.6.8"
  }
 },
 "nbformat": 4,
 "nbformat_minor": 2
}
