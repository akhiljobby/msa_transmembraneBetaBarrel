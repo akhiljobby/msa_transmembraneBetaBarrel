{
 "cells": [
  {
   "cell_type": "code",
   "execution_count": null,
   "metadata": {},
   "outputs": [],
   "source": [
    "# import os\n",
    "\n",
    "# path = 'the/name/of/your/path'\n",
    "\n",
    "# folder = os.fsencode(path)\n",
    "\n",
    "# filenames = []\n",
    "\n",
    "# for file in os.listdir(folder):\n",
    "#     filename = os.fsdecode(file)\n",
    "#     if filename.endswith( ('.jpeg', '.png', '.gif') ): # whatever file types you're using...\n",
    "#         filenames.append(filename)\n",
    "\n",
    "# filenames.sort()\n",
    "\n",
    "\n",
    "from Bio import SeqIO\n",
    "import argparse\n",
    "\n",
    "parser = argparse.ArgumentParser(description=\"Split the fasta file into individual file with each gene seq\")\n",
    "parser.add_argument('-f', action='store', dest='fasta_file', help='Input fasta file')\n",
    "result = parser.parse_args()\n",
    "\n",
    "f_open = open(result.fasta_file, \"rU\")\n",
    "\n",
    "for rec in SeqIO.parse(f_open, \"fasta\"):\n",
    "   id = rec.id\n",
    "   seq = rec.seq\n",
    "   id_file = open(id, \"w\")\n",
    "   id_file.write(\">\"+str(id)+\"\\n\"+str(seq))\n",
    "   id_file.close()\n",
    "\n",
    "f_open.close()\n",
    "\n",
    "\n",
    "\n",
    "\n",
    "\n",
    "\n",
    "# from pyfaidx import Fasta, wrap_sequence\n",
    "# fa = Fasta('multi.fasta')\n",
    "# for seq in fa:\n",
    "#   with open('{}.fa'.format(seq.name), 'w') as out:\n",
    "#     out.write('>{}\\n'.format(seq.name))\n",
    "#     for line in wrap_sequence(70, str(seq)):\n",
    "#       out.write(line)"
   ]
  },
  {
   "cell_type": "code",
   "execution_count": null,
   "metadata": {},
   "outputs": [],
   "source": []
  }
 ],
 "metadata": {
  "kernelspec": {
   "display_name": "Python 3",
   "language": "python",
   "name": "python3"
  },
  "language_info": {
   "codemirror_mode": {
    "name": "ipython",
    "version": 3
   },
   "file_extension": ".py",
   "mimetype": "text/x-python",
   "name": "python",
   "nbconvert_exporter": "python",
   "pygments_lexer": "ipython3",
   "version": "3.6.7"
  }
 },
 "nbformat": 4,
 "nbformat_minor": 2
}
