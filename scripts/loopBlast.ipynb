{
 "cells": [
  {
   "cell_type": "code",
   "execution_count": 5,
   "metadata": {},
   "outputs": [],
   "source": [
    "import os\n",
    "\n",
    "from Bio.Blast.Applications import NcbiblastxCommandline\n",
    "\n",
    "\n",
    "path = '/home/user/thesis/scripts/fastaFiles/'\n",
    "file=[]\n",
    "\n",
    "for filename in os.listdir(path):\n",
    "    file.append(filename)\n",
    "   \n",
    "#     os.system(\"blastp -query filename -db nr -out filename.txt -outfmt 6\")\n",
    "#     print(filename)\n",
    "#     #if filename.endswith(\".fasta\"):\n",
    "#             #print(filename)\n",
    "#         #blastx_cline = NcbiblastxCommandline(query=\"filename\", db=\"nr\", outfmt=6, out=\"filename.txt\")\n",
    "#         #print(blastx_cline)\n",
    "#             #f = open('/home/user/thesis/scripts/fastaFiles/'+filename)\n",
    "#             #lines = f.read()\n",
    "#             #print(lines)     \n",
    "#         #continue\n",
    "#    # else:\n",
    "#        # break"
   ]
  },
  {
   "cell_type": "code",
   "execution_count": null,
   "metadata": {},
   "outputs": [],
   "source": []
  }
 ],
 "metadata": {
  "kernelspec": {
   "display_name": "Python 3",
   "language": "python",
   "name": "python3"
  },
  "language_info": {
   "codemirror_mode": {
    "name": "ipython",
    "version": 3
   },
   "file_extension": ".py",
   "mimetype": "text/x-python",
   "name": "python",
   "nbconvert_exporter": "python",
   "pygments_lexer": "ipython3",
   "version": "3.6.8"
  }
 },
 "nbformat": 4,
 "nbformat_minor": 2
}
