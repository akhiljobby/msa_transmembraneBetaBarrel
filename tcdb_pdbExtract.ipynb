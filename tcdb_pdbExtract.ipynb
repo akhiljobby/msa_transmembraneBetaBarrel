{
 "cells": [
  {
   "cell_type": "code",
   "execution_count": 8,
   "metadata": {
    "scrolled": true
   },
   "outputs": [],
   "source": [
    "# String extraction\n",
    "#extract lines starting with PBDID from tcdb_pdbList.txt and write it to transporter_pdblist.txt\n",
    "\n",
    "with open(\"tcdb_pdbList.txt\") as a, open('transporter_pdbList.txt', 'w') as b:\n",
    "   for line in a:\n",
    "    if 'PBDID: ' in line:\n",
    "     b.write(line + '\\n')"
   ]
  },
  {
   "cell_type": "code",
   "execution_count": null,
   "metadata": {},
   "outputs": [],
   "source": []
  }
 ],
 "metadata": {
  "kernelspec": {
   "display_name": "Python 3",
   "language": "python",
   "name": "python3"
  },
  "language_info": {
   "codemirror_mode": {
    "name": "ipython",
    "version": 3
   },
   "file_extension": ".py",
   "mimetype": "text/x-python",
   "name": "python",
   "nbconvert_exporter": "python",
   "pygments_lexer": "ipython3",
   "version": "3.7.0"
  }
 },
 "nbformat": 4,
 "nbformat_minor": 2
}
