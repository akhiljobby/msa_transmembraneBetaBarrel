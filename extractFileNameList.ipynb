{
 "cells": [
  {
   "cell_type": "code",
   "execution_count": 3,
   "metadata": {},
   "outputs": [],
   "source": [
    "#String match and manipulation\n",
    "#Extract filenames from list of files ending with \".pdb\" in directory  and write all filenames comma separated into a text\n",
    "\n",
    "import os, fnmatch\n",
    "\n",
    "with open('fileList.txt', 'w') as file_out:\n",
    "    listOfFiles = os.listdir('.')  # Checks current directory/directory where the ipynb file resides\n",
    "    pattern = \"*.pdb\"  \n",
    "    for entry in listOfFiles:  \n",
    "        if fnmatch.fnmatch(entry, pattern):\n",
    "                file_out.write(\"'\")\n",
    "                file_out.write(entry)\n",
    "                file_out.write(\"'\")\n",
    "                file_out.write(\", \")\n",
    "                "
   ]
  },
  {
   "cell_type": "code",
   "execution_count": null,
   "metadata": {},
   "outputs": [],
   "source": []
  },
  {
   "cell_type": "code",
   "execution_count": null,
   "metadata": {},
   "outputs": [],
   "source": []
  },
  {
   "cell_type": "code",
   "execution_count": null,
   "metadata": {},
   "outputs": [],
   "source": []
  },
  {
   "cell_type": "code",
   "execution_count": null,
   "metadata": {},
   "outputs": [],
   "source": []
  }
 ],
 "metadata": {
  "kernelspec": {
   "display_name": "Python 3",
   "language": "python",
   "name": "python3"
  },
  "language_info": {
   "codemirror_mode": {
    "name": "ipython",
    "version": 3
   },
   "file_extension": ".py",
   "mimetype": "text/x-python",
   "name": "python",
   "nbconvert_exporter": "python",
   "pygments_lexer": "ipython3",
   "version": "3.7.0"
  }
 },
 "nbformat": 4,
 "nbformat_minor": 2
}
